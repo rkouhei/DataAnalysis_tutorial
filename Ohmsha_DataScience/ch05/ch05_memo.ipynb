{
 "cells": [
  {
   "cell_type": "code",
   "execution_count": 1,
   "metadata": {
    "collapsed": true
   },
   "outputs": [],
   "source": [
    "# とりあえず見えないように\n",
    "import warnings\n",
    "warnings.filterwarnings('ignore')"
   ]
  },
  {
   "cell_type": "code",
   "execution_count": 2,
   "metadata": {
    "collapsed": true
   },
   "outputs": [],
   "source": [
    "# 使用するライブラリのインポート\n",
    "import numpy as np\n",
    "import statsmodels.formula.api as smf\n",
    "import statsmodels.api as sm\n",
    "import pandas as pd\n",
    "from rpy2.robjects import r, pandas2ri\n",
    "import matplotlib.pyplot as plt"
   ]
  },
  {
   "cell_type": "markdown",
   "metadata": {
    "collapsed": true
   },
   "source": [
    "# 回帰分析\n",
    "## 回帰分析とは\n",
    "### 会期の由来\n",
    "### システム論から見た回帰分析\n",
    "回帰モデルを求めるとは、説明変数をシステム(物理現象や社会・経済現象により、数学モデルで近似する)に入力し、回帰モデルを求める。(誤差のノルムを何らかの方法で測り、最小化を図る)  \n",
    "回帰モデルを求めるとは、パラメータを求めることを意味する。  \n",
    "\n",
    "**回帰分析の流れ**\n",
    "1. (モデル構造が既知と仮定して、)モデル次数pを選定する\n",
    "2. x, yを用いて、偏回帰係数βを推定し、回帰モデルを求める\n",
    "3. この回帰モデルを用いて、目的変数が未知で新たな説明変数をモデルに入力して、目的変数を予測する  \n",
    "\n",
    "### statsmodels\n",
    "本章では、回帰モデルのパラメータ推定にOLS法(ordinary least squares)を扱う。"
   ]
  },
  {
   "cell_type": "markdown",
   "metadata": {},
   "source": [
    "## 単回帰分析\n",
    "### 単回帰分析の意義\n",
    "- 計測データは離散値となる。このため、隣り合うデータの間のyを知りたい場合に、この値を予測することができる。\n",
    "- サンプルの区間を超えた目的変数の値を予測することができる。\n",
    "- バイパスパラメータ(切片)と傾きを見ることで、説明変数に基づく目的変数の発生メカニズム推定の手がかりを得る。\n",
    "\n",
    "### 単回帰モデルの統計的評価\n",
    "**偏回帰係数のt検定**  \n",
    "係数が0か否かを検定する。  \n",
    "\n",
    "**決定係数**  \n",
    "決定係数はR^2で表され、回帰モデルのデータに対するあてはまりの良さを表す指標である。  \n",
    "0 < R^2 <= 1  \n",
    "1に近いほどよい当てはまりとされる。一般的に0.6以下ならば良くないが、0.8以上ならばある程度良いモデルであるとされている。\n",
    "\n",
    "### 家計調査\n",
    "家計調査のWebサイトから、2人以上世帯の年間収入に対して、1ヶ月あたりの支出とエンゲル係数のそれぞれに対する単回帰分析を行う。\n"
   ]
  },
  {
   "cell_type": "code",
   "execution_count": 3,
   "metadata": {},
   "outputs": [
    {
     "name": "stdout",
     "output_type": "stream",
     "text": [
      "   income  expenditure  engel\n",
      "0     216       172462   30.8\n",
      "1     304       204599   29.9\n",
      "2     356       224776   28.8\n",
      "3     413       240153   27.8\n",
      "4     481       255497   27.3\n",
      "5     555       275490   25.9\n",
      "6     642       295447   25.7\n",
      "7     752       323072   24.7\n",
      "8     902       362769   23.4\n",
      "9    1461       467616   21.8\n"
     ]
    }
   ],
   "source": [
    "import statsmodels.formula.api as smf\n",
    "import pandas as pd\n",
    "\n",
    "url = 'https://sites.google.com/site/datasciencehiro/datasets/FamilyIncome.csv'\n",
    "df = pd.read_csv(url, comment='#')\n",
    "print(df)"
   ]
  },
  {
   "cell_type": "markdown",
   "metadata": {},
   "source": [
    "incomeは年間収入、expenditureは1ヶ月支出、engelはエンゲル係数の並びである。  \n",
    "説明変数をincome、目的変数をexpenditureとした単回帰分析は以下のように記述する。"
   ]
  },
  {
   "cell_type": "code",
   "execution_count": 4,
   "metadata": {},
   "outputs": [
    {
     "name": "stdout",
     "output_type": "stream",
     "text": [
      "                            OLS Regression Results                            \n",
      "==============================================================================\n",
      "Dep. Variable:            expenditure   R-squared:                       0.987\n",
      "Model:                            OLS   Adj. R-squared:                  0.986\n",
      "Method:                 Least Squares   F-statistic:                     624.7\n",
      "Date:                   土, 29  2 2020   Prob (F-statistic):           7.02e-09\n",
      "Time:                        06:09:06   Log-Likelihood:                -105.43\n",
      "No. Observations:                  10   AIC:                             214.9\n",
      "Df Residuals:                       8   BIC:                             215.5\n",
      "Df Model:                           1                                         \n",
      "Covariance Type:            nonrobust                                         \n",
      "==============================================================================\n",
      "                 coef    std err          t      P>|t|      [0.025      0.975]\n",
      "------------------------------------------------------------------------------\n",
      "Intercept     1.4e+05   6550.516     21.366      0.000    1.25e+05    1.55e+05\n",
      "income       233.8560      9.356     24.994      0.000     212.280     255.432\n",
      "==============================================================================\n",
      "Omnibus:                        2.090   Durbin-Watson:                   1.074\n",
      "Prob(Omnibus):                  0.352   Jarque-Bera (JB):                1.285\n",
      "Skew:                          -0.825   Prob(JB):                        0.526\n",
      "Kurtosis:                       2.400   Cond. No.                     1.41e+03\n",
      "==============================================================================\n",
      "\n",
      "Warnings:\n",
      "[1] Standard Errors assume that the covariance matrix of the errors is correctly specified.\n",
      "[2] The condition number is large, 1.41e+03. This might indicate that there are\n",
      "strong multicollinearity or other numerical problems.\n"
     ]
    }
   ],
   "source": [
    "result = smf.ols('expenditure ~ income', data=df).fit()\n",
    "print(result.summary())\n",
    "b0, b1 = result.params # b0に切片、b1に傾き"
   ]
  },
  {
   "cell_type": "markdown",
   "metadata": {
    "collapsed": true
   },
   "source": [
    "この結果より、求めた単回帰モデルは以下となる。  \n",
    "`expenditure = b0 + b1 * income`  \n",
    "\n",
    "**単回帰モデルを用いた予測**  \n",
    "サンプルデータにない家庭の収入を求めてみる"
   ]
  },
  {
   "cell_type": "code",
   "execution_count": 5,
   "metadata": {},
   "outputs": [
    {
     "data": {
      "text/plain": [
       "0    397198.498402\n",
       "1    420584.101981\n",
       "dtype: float64"
      ]
     },
     "execution_count": 5,
     "metadata": {},
     "output_type": "execute_result"
    }
   ],
   "source": [
    "NewData = {'income' : [1100, 1200]}\n",
    "df2 = pd.DataFrame(NewData)\n",
    "pred = result.predict(df2)\n",
    "pred"
   ]
  },
  {
   "cell_type": "markdown",
   "metadata": {
    "collapsed": true
   },
   "source": [
    "上の場合は、0が年収1100万の家庭の1ヶ月の支出になる。  \n",
    "\n",
    "次に、目的変数をengel、説明変数をincomeとしたときを分析してみる。"
   ]
  },
  {
   "cell_type": "code",
   "execution_count": 6,
   "metadata": {},
   "outputs": [
    {
     "name": "stdout",
     "output_type": "stream",
     "text": [
      "                            OLS Regression Results                            \n",
      "==============================================================================\n",
      "Dep. Variable:                  engel   R-squared:                       0.882\n",
      "Model:                            OLS   Adj. R-squared:                  0.867\n",
      "Method:                 Least Squares   F-statistic:                     59.88\n",
      "Date:                   土, 29  2 2020   Prob (F-statistic):           5.54e-05\n",
      "Time:                        06:09:06   Log-Likelihood:                -13.470\n",
      "No. Observations:                  10   AIC:                             30.94\n",
      "Df Residuals:                       8   BIC:                             31.55\n",
      "Df Model:                           1                                         \n",
      "Covariance Type:            nonrobust                                         \n",
      "==============================================================================\n",
      "                 coef    std err          t      P>|t|      [0.025      0.975]\n",
      "------------------------------------------------------------------------------\n",
      "Intercept     31.0757      0.664     46.781      0.000      29.544      32.608\n",
      "income        -0.0073      0.001     -7.738      0.000      -0.010      -0.005\n",
      "==============================================================================\n",
      "Omnibus:                        2.365   Durbin-Watson:                   0.946\n",
      "Prob(Omnibus):                  0.306   Jarque-Bera (JB):                1.049\n",
      "Skew:                           0.383   Prob(JB):                        0.592\n",
      "Kurtosis:                       1.610   Cond. No.                     1.41e+03\n",
      "==============================================================================\n",
      "\n",
      "Warnings:\n",
      "[1] Standard Errors assume that the covariance matrix of the errors is correctly specified.\n",
      "[2] The condition number is large, 1.41e+03. This might indicate that there are\n",
      "strong multicollinearity or other numerical problems.\n"
     ]
    }
   ],
   "source": [
    "result = smf.ols('engel ~ income', data=df).fit()\n",
    "print(result.summary())\n",
    "b0, b1 = result.params # b0に切片、b1に傾き"
   ]
  },
  {
   "cell_type": "markdown",
   "metadata": {},
   "source": [
    "### シンプソンのパラドックス\n",
    "回帰分析を直ちに行うのではなく、その前にデータの可視化も含めていくつかの統計的特徴量を見てから、回帰分析を実施し、この事前分析と照合して結果を評価することが望ましい。\n",
    "\n",
    "### 数学的説明\n",
    "省略  \n",
    "\n",
    "## 多項式回帰分析\n",
    "多項式をモデルに用いる。ただし、ここでは説明変数は1種類であるとする  \n",
    "\n",
    "### 多項式モデル\n",
    "観測データが2次式や3次式のグラフに近い分布を示しているとき、単回帰モデルより、多項式モデルを用いたフィッティングのほうが好ましいという考え方がある  \n",
    "\n",
    "### Rデータセットのcars\n",
    "Rのデータセットの中にあるcarsには、車がブレーキを掛けたときの停止距離[ft]と速度[mile/h]との測定データがある。これを例に多項式回帰分析を行う。\n"
   ]
  },
  {
   "cell_type": "code",
   "execution_count": 7,
   "metadata": {},
   "outputs": [
    {
     "name": "stdout",
     "output_type": "stream",
     "text": [
      "   speed  dist\n",
      "1    4.0   2.0\n",
      "2    4.0  10.0\n",
      "3    7.0   4.0\n",
      "4    7.0  22.0\n",
      "5    8.0  16.0\n"
     ]
    }
   ],
   "source": [
    "import statsmodels.formula.api as smf\n",
    "from rpy2.robjects import r, pandas2ri\n",
    "\n",
    "pandas2ri.activate()\n",
    "df = r['cars'] # carsのデータセットを読み込む\n",
    "x = df.speed\n",
    "print(df.head())\n"
   ]
  },
  {
   "cell_type": "code",
   "execution_count": 8,
   "metadata": {
    "collapsed": true
   },
   "outputs": [],
   "source": [
    "# 2次\n",
    "result2 = smf.ols('dist ~ np.power(speed,2) + speed', data=df).fit()\n",
    "\n",
    "# 3次\n",
    "result3 = smf.ols('dist ~ np.power(speed,3) + np.power(speed,2) + speed', data=df).fit()\n"
   ]
  },
  {
   "cell_type": "code",
   "execution_count": 9,
   "metadata": {},
   "outputs": [
    {
     "name": "stdout",
     "output_type": "stream",
     "text": [
      "                            OLS Regression Results                            \n",
      "==============================================================================\n",
      "Dep. Variable:                   dist   R-squared:                       0.667\n",
      "Model:                            OLS   Adj. R-squared:                  0.653\n",
      "Method:                 Least Squares   F-statistic:                     47.14\n",
      "Date:                   土, 29  2 2020   Prob (F-statistic):           5.85e-12\n",
      "Time:                        06:09:06   Log-Likelihood:                -205.39\n",
      "No. Observations:                  50   AIC:                             416.8\n",
      "Df Residuals:                      47   BIC:                             422.5\n",
      "Df Model:                           2                                         \n",
      "Covariance Type:            nonrobust                                         \n",
      "======================================================================================\n",
      "                         coef    std err          t      P>|t|      [0.025      0.975]\n",
      "--------------------------------------------------------------------------------------\n",
      "Intercept              2.4701     14.817      0.167      0.868     -27.338      32.278\n",
      "np.power(speed, 2)     0.1000      0.066      1.515      0.136      -0.033       0.233\n",
      "speed                  0.9133      2.034      0.449      0.656      -3.179       5.006\n",
      "==============================================================================\n",
      "Omnibus:                       11.173   Durbin-Watson:                   1.762\n",
      "Prob(Omnibus):                  0.004   Jarque-Bera (JB):               11.061\n",
      "Skew:                           0.991   Prob(JB):                      0.00396\n",
      "Kurtosis:                       4.173   Cond. No.                     2.16e+03\n",
      "==============================================================================\n",
      "\n",
      "Warnings:\n",
      "[1] Standard Errors assume that the covariance matrix of the errors is correctly specified.\n",
      "[2] The condition number is large, 2.16e+03. This might indicate that there are\n",
      "strong multicollinearity or other numerical problems.\n"
     ]
    }
   ],
   "source": [
    "print(result2.summary())"
   ]
  },
  {
   "cell_type": "code",
   "execution_count": 10,
   "metadata": {},
   "outputs": [
    {
     "name": "stdout",
     "output_type": "stream",
     "text": [
      "                            OLS Regression Results                            \n",
      "==============================================================================\n",
      "Dep. Variable:                   dist   R-squared:                       0.673\n",
      "Model:                            OLS   Adj. R-squared:                  0.652\n",
      "Method:                 Least Squares   F-statistic:                     31.58\n",
      "Date:                   土, 29  2 2020   Prob (F-statistic):           3.07e-11\n",
      "Time:                        06:09:06   Log-Likelihood:                -204.94\n",
      "No. Observations:                  50   AIC:                             417.9\n",
      "Df Residuals:                      46   BIC:                             425.5\n",
      "Df Model:                           3                                         \n",
      "Covariance Type:            nonrobust                                         \n",
      "======================================================================================\n",
      "                         coef    std err          t      P>|t|      [0.025      0.975]\n",
      "--------------------------------------------------------------------------------------\n",
      "Intercept            -19.5050     28.405     -0.687      0.496     -76.682      37.672\n",
      "np.power(speed, 3)     0.0103      0.011      0.907      0.369      -0.012       0.033\n",
      "np.power(speed, 2)    -0.3497      0.500     -0.699      0.488      -1.356       0.657\n",
      "speed                  6.8011      6.801      1.000      0.323      -6.889      20.491\n",
      "==============================================================================\n",
      "Omnibus:                       11.647   Durbin-Watson:                   1.813\n",
      "Prob(Omnibus):                  0.003   Jarque-Bera (JB):               11.650\n",
      "Skew:                           1.037   Prob(JB):                      0.00295\n",
      "Kurtosis:                       4.136   Cond. No.                     8.75e+04\n",
      "==============================================================================\n",
      "\n",
      "Warnings:\n",
      "[1] Standard Errors assume that the covariance matrix of the errors is correctly specified.\n",
      "[2] The condition number is large, 8.75e+04. This might indicate that there are\n",
      "strong multicollinearity or other numerical problems.\n"
     ]
    }
   ],
   "source": [
    "print(result3.summary())"
   ]
  },
  {
   "cell_type": "markdown",
   "metadata": {},
   "source": [
    "## 重回帰分析\n",
    "p次の回帰モデル(p>=2)を用い、説明変数が複数あるもの。単回帰モデルとは異なる見方がある。  \n",
    "複数の偏回帰係数がゼロであるか否かを一括して考えるF検定、および説明変数間に強い相関がある場合の多重共線性である。  \n",
    "これらの説明のため、人口データを用いたシミュレーションを行う。\n",
    "\n",
    "### F検定"
   ]
  },
  {
   "cell_type": "code",
   "execution_count": 11,
   "metadata": {
    "collapsed": true
   },
   "outputs": [],
   "source": [
    "num = 30\n",
    "noise = np.random.normal(0.0, 0.1, num)\n",
    "rad = np.linspace(-np.pi, np.pi, num)\n",
    "x1 = np.sin(rad)\n",
    "x2 = np.random.normal(-2.0, 3.0, num)"
   ]
  },
  {
   "cell_type": "code",
   "execution_count": 12,
   "metadata": {},
   "outputs": [
    {
     "data": {
      "text/html": [
       "<table class=\"simpletable\">\n",
       "<caption>OLS Regression Results</caption>\n",
       "<tr>\n",
       "  <th>Dep. Variable:</th>          <td>y</td>       <th>  R-squared (uncentered):</th>      <td>   0.999</td> \n",
       "</tr>\n",
       "<tr>\n",
       "  <th>Model:</th>                 <td>OLS</td>      <th>  Adj. R-squared (uncentered):</th> <td>   0.999</td> \n",
       "</tr>\n",
       "<tr>\n",
       "  <th>Method:</th>           <td>Least Squares</td> <th>  F-statistic:       </th>          <td>1.345e+04</td>\n",
       "</tr>\n",
       "<tr>\n",
       "  <th>Date:</th>             <td>土, 29  2 2020</td> <th>  Prob (F-statistic):</th>          <td>1.73e-42</td> \n",
       "</tr>\n",
       "<tr>\n",
       "  <th>Time:</th>               <td>06:09:06</td>    <th>  Log-Likelihood:    </th>          <td>  33.517</td> \n",
       "</tr>\n",
       "<tr>\n",
       "  <th>No. Observations:</th>    <td>    30</td>     <th>  AIC:               </th>          <td>  -63.03</td> \n",
       "</tr>\n",
       "<tr>\n",
       "  <th>Df Residuals:</th>        <td>    28</td>     <th>  BIC:               </th>          <td>  -60.23</td> \n",
       "</tr>\n",
       "<tr>\n",
       "  <th>Df Model:</th>            <td>     2</td>     <th>                     </th>              <td> </td>    \n",
       "</tr>\n",
       "<tr>\n",
       "  <th>Covariance Type:</th>    <td>nonrobust</td>   <th>                     </th>              <td> </td>    \n",
       "</tr>\n",
       "</table>\n",
       "<table class=\"simpletable\">\n",
       "<tr>\n",
       "   <td></td>     <th>coef</th>     <th>std err</th>      <th>t</th>      <th>P>|t|</th>  <th>[0.025</th>    <th>0.975]</th>  \n",
       "</tr>\n",
       "<tr>\n",
       "  <th>x1</th> <td>    1.1379</td> <td>    0.022</td> <td>   52.382</td> <td> 0.000</td> <td>    1.093</td> <td>    1.182</td>\n",
       "</tr>\n",
       "<tr>\n",
       "  <th>x2</th> <td>   -0.5497</td> <td>    0.004</td> <td> -146.835</td> <td> 0.000</td> <td>   -0.557</td> <td>   -0.542</td>\n",
       "</tr>\n",
       "</table>\n",
       "<table class=\"simpletable\">\n",
       "<tr>\n",
       "  <th>Omnibus:</th>       <td> 4.050</td> <th>  Durbin-Watson:     </th> <td>   1.625</td>\n",
       "</tr>\n",
       "<tr>\n",
       "  <th>Prob(Omnibus):</th> <td> 0.132</td> <th>  Jarque-Bera (JB):  </th> <td>   1.637</td>\n",
       "</tr>\n",
       "<tr>\n",
       "  <th>Skew:</th>          <td>-0.120</td> <th>  Prob(JB):          </th> <td>   0.441</td>\n",
       "</tr>\n",
       "<tr>\n",
       "  <th>Kurtosis:</th>      <td> 1.881</td> <th>  Cond. No.          </th> <td>    5.86</td>\n",
       "</tr>\n",
       "</table><br/><br/>Warnings:<br/>[1] Standard Errors assume that the covariance matrix of the errors is correctly specified."
      ],
      "text/plain": [
       "<class 'statsmodels.iolib.summary.Summary'>\n",
       "\"\"\"\n",
       "                                 OLS Regression Results                                \n",
       "=======================================================================================\n",
       "Dep. Variable:                      y   R-squared (uncentered):                   0.999\n",
       "Model:                            OLS   Adj. R-squared (uncentered):              0.999\n",
       "Method:                 Least Squares   F-statistic:                          1.345e+04\n",
       "Date:                   土, 29  2 2020   Prob (F-statistic):                    1.73e-42\n",
       "Time:                        06:09:06   Log-Likelihood:                          33.517\n",
       "No. Observations:                  30   AIC:                                     -63.03\n",
       "Df Residuals:                      28   BIC:                                     -60.23\n",
       "Df Model:                           2                                                  \n",
       "Covariance Type:            nonrobust                                                  \n",
       "==============================================================================\n",
       "                 coef    std err          t      P>|t|      [0.025      0.975]\n",
       "------------------------------------------------------------------------------\n",
       "x1             1.1379      0.022     52.382      0.000       1.093       1.182\n",
       "x2            -0.5497      0.004   -146.835      0.000      -0.557      -0.542\n",
       "==============================================================================\n",
       "Omnibus:                        4.050   Durbin-Watson:                   1.625\n",
       "Prob(Omnibus):                  0.132   Jarque-Bera (JB):                1.637\n",
       "Skew:                          -0.120   Prob(JB):                        0.441\n",
       "Kurtosis:                       1.881   Cond. No.                         5.86\n",
       "==============================================================================\n",
       "\n",
       "Warnings:\n",
       "[1] Standard Errors assume that the covariance matrix of the errors is correctly specified.\n",
       "\"\"\""
      ]
     },
     "execution_count": 12,
     "metadata": {},
     "output_type": "execute_result"
    }
   ],
   "source": [
    "b1, b2 = 1.1, -0.55\n",
    "y = b1*x1 + b2*x2 + noise\n",
    "df = pd.DataFrame({'y':y, 'x1':x1, 'x2':x2})\n",
    "results = smf.ols('y ~ x1 + x2 -1', data=df).fit()\n",
    "results.summary()"
   ]
  },
  {
   "cell_type": "markdown",
   "metadata": {},
   "source": [
    "これにおいて、F-statisticはF値を、Prob(F-statistics)はその確率を表している  \n",
    "またt検定では、両方の係数ともにゼロではないことを示している  \n",
    "\n",
    "### 多重共線性\n",
    "説明変数同士に高い相関がある場合に生じる現象"
   ]
  },
  {
   "cell_type": "code",
   "execution_count": 13,
   "metadata": {
    "collapsed": true
   },
   "outputs": [],
   "source": [
    "num = 30\n",
    "rad = np.linspace(-np.pi, np.pi, num)\n",
    "x1 = np.sin(rad)\n",
    "x2 = np.random.normal(-2.0, 3.0, num)\n",
    "\n",
    "b1, b2 = 3.3, -1.25\n",
    "noise = 0.001*np.random.normal(0.0, 1.0, num)\n",
    "y = b1*x1 + b2*x2 + noise"
   ]
  },
  {
   "cell_type": "code",
   "execution_count": 14,
   "metadata": {},
   "outputs": [
    {
     "data": {
      "text/html": [
       "<table class=\"simpletable\">\n",
       "<caption>OLS Regression Results</caption>\n",
       "<tr>\n",
       "  <th>Dep. Variable:</th>          <td>y</td>       <th>  R-squared (uncentered):</th>      <td>   1.000</td> \n",
       "</tr>\n",
       "<tr>\n",
       "  <th>Model:</th>                 <td>OLS</td>      <th>  Adj. R-squared (uncentered):</th> <td>   1.000</td> \n",
       "</tr>\n",
       "<tr>\n",
       "  <th>Method:</th>           <td>Least Squares</td> <th>  F-statistic:       </th>          <td>2.738e+08</td>\n",
       "</tr>\n",
       "<tr>\n",
       "  <th>Date:</th>             <td>土, 29  2 2020</td> <th>  Prob (F-statistic):</th>          <td>4.03e-101</td>\n",
       "</tr>\n",
       "<tr>\n",
       "  <th>Time:</th>               <td>06:09:06</td>    <th>  Log-Likelihood:    </th>          <td>  170.95</td> \n",
       "</tr>\n",
       "<tr>\n",
       "  <th>No. Observations:</th>    <td>    30</td>     <th>  AIC:               </th>          <td>  -335.9</td> \n",
       "</tr>\n",
       "<tr>\n",
       "  <th>Df Residuals:</th>        <td>    27</td>     <th>  BIC:               </th>          <td>  -331.7</td> \n",
       "</tr>\n",
       "<tr>\n",
       "  <th>Df Model:</th>            <td>     3</td>     <th>                     </th>              <td> </td>    \n",
       "</tr>\n",
       "<tr>\n",
       "  <th>Covariance Type:</th>    <td>nonrobust</td>   <th>                     </th>              <td> </td>    \n",
       "</tr>\n",
       "</table>\n",
       "<table class=\"simpletable\">\n",
       "<tr>\n",
       "   <td></td>     <th>coef</th>     <th>std err</th>      <th>t</th>      <th>P>|t|</th>  <th>[0.025</th>    <th>0.975]</th>  \n",
       "</tr>\n",
       "<tr>\n",
       "  <th>x1</th> <td>    3.3068</td> <td>    0.218</td> <td>   15.201</td> <td> 0.000</td> <td>    2.860</td> <td>    3.753</td>\n",
       "</tr>\n",
       "<tr>\n",
       "  <th>x2</th> <td>   -1.2500</td> <td>  4.7e-05</td> <td>-2.66e+04</td> <td> 0.000</td> <td>   -1.250</td> <td>   -1.250</td>\n",
       "</tr>\n",
       "<tr>\n",
       "  <th>x3</th> <td>   -0.0021</td> <td>    0.065</td> <td>   -0.032</td> <td> 0.975</td> <td>   -0.135</td> <td>    0.131</td>\n",
       "</tr>\n",
       "</table>\n",
       "<table class=\"simpletable\">\n",
       "<tr>\n",
       "  <th>Omnibus:</th>       <td> 0.489</td> <th>  Durbin-Watson:     </th> <td>   1.905</td>\n",
       "</tr>\n",
       "<tr>\n",
       "  <th>Prob(Omnibus):</th> <td> 0.783</td> <th>  Jarque-Bera (JB):  </th> <td>   0.357</td>\n",
       "</tr>\n",
       "<tr>\n",
       "  <th>Skew:</th>          <td> 0.251</td> <th>  Prob(JB):          </th> <td>   0.836</td>\n",
       "</tr>\n",
       "<tr>\n",
       "  <th>Kurtosis:</th>      <td> 2.818</td> <th>  Cond. No.          </th> <td>4.94e+03</td>\n",
       "</tr>\n",
       "</table><br/><br/>Warnings:<br/>[1] Standard Errors assume that the covariance matrix of the errors is correctly specified.<br/>[2] The condition number is large, 4.94e+03. This might indicate that there are<br/>strong multicollinearity or other numerical problems."
      ],
      "text/plain": [
       "<class 'statsmodels.iolib.summary.Summary'>\n",
       "\"\"\"\n",
       "                                 OLS Regression Results                                \n",
       "=======================================================================================\n",
       "Dep. Variable:                      y   R-squared (uncentered):                   1.000\n",
       "Model:                            OLS   Adj. R-squared (uncentered):              1.000\n",
       "Method:                 Least Squares   F-statistic:                          2.738e+08\n",
       "Date:                   土, 29  2 2020   Prob (F-statistic):                   4.03e-101\n",
       "Time:                        06:09:06   Log-Likelihood:                          170.95\n",
       "No. Observations:                  30   AIC:                                     -335.9\n",
       "Df Residuals:                      27   BIC:                                     -331.7\n",
       "Df Model:                           3                                                  \n",
       "Covariance Type:            nonrobust                                                  \n",
       "==============================================================================\n",
       "                 coef    std err          t      P>|t|      [0.025      0.975]\n",
       "------------------------------------------------------------------------------\n",
       "x1             3.3068      0.218     15.201      0.000       2.860       3.753\n",
       "x2            -1.2500    4.7e-05  -2.66e+04      0.000      -1.250      -1.250\n",
       "x3            -0.0021      0.065     -0.032      0.975      -0.135       0.131\n",
       "==============================================================================\n",
       "Omnibus:                        0.489   Durbin-Watson:                   1.905\n",
       "Prob(Omnibus):                  0.783   Jarque-Bera (JB):                0.357\n",
       "Skew:                           0.251   Prob(JB):                        0.836\n",
       "Kurtosis:                       2.818   Cond. No.                     4.94e+03\n",
       "==============================================================================\n",
       "\n",
       "Warnings:\n",
       "[1] Standard Errors assume that the covariance matrix of the errors is correctly specified.\n",
       "[2] The condition number is large, 4.94e+03. This might indicate that there are\n",
       "strong multicollinearity or other numerical problems.\n",
       "\"\"\""
      ]
     },
     "execution_count": 14,
     "metadata": {},
     "output_type": "execute_result"
    }
   ],
   "source": [
    "x3 = 3.35*np.sin((rad+0.001)) + 0.001*np.random.normal(0.0, 0.1, num)\n",
    "df = pd.DataFrame({'y':y, 'x1':x1, 'x2':x2, 'x3':x3})\n",
    "results = smf.ols('y ~ x1 + x2 + x3 -1', data=df).fit()\n",
    "results.summary()"
   ]
  },
  {
   "cell_type": "markdown",
   "metadata": {},
   "source": [
    "### 電力と気温の関係\n",
    "消費電力が最高気温と最低気温との間にどのような関係にするか重回帰分析を用いて考察する"
   ]
  },
  {
   "cell_type": "code",
   "execution_count": 15,
   "metadata": {},
   "outputs": [
    {
     "data": {
      "text/html": [
       "<div>\n",
       "<style scoped>\n",
       "    .dataframe tbody tr th:only-of-type {\n",
       "        vertical-align: middle;\n",
       "    }\n",
       "\n",
       "    .dataframe tbody tr th {\n",
       "        vertical-align: top;\n",
       "    }\n",
       "\n",
       "    .dataframe thead th {\n",
       "        text-align: right;\n",
       "    }\n",
       "</style>\n",
       "<table border=\"1\" class=\"dataframe\">\n",
       "  <thead>\n",
       "    <tr style=\"text-align: right;\">\n",
       "      <th></th>\n",
       "      <th>TIME</th>\n",
       "      <th>Power</th>\n",
       "    </tr>\n",
       "    <tr>\n",
       "      <th>DATE</th>\n",
       "      <th></th>\n",
       "      <th></th>\n",
       "    </tr>\n",
       "  </thead>\n",
       "  <tbody>\n",
       "    <tr>\n",
       "      <td>2017-01-01</td>\n",
       "      <td>0:00</td>\n",
       "      <td>2783</td>\n",
       "    </tr>\n",
       "    <tr>\n",
       "      <td>2017-01-01</td>\n",
       "      <td>1:00</td>\n",
       "      <td>2634</td>\n",
       "    </tr>\n",
       "    <tr>\n",
       "      <td>2017-01-01</td>\n",
       "      <td>2:00</td>\n",
       "      <td>2520</td>\n",
       "    </tr>\n",
       "    <tr>\n",
       "      <td>2017-01-01</td>\n",
       "      <td>3:00</td>\n",
       "      <td>2438</td>\n",
       "    </tr>\n",
       "    <tr>\n",
       "      <td>2017-01-01</td>\n",
       "      <td>4:00</td>\n",
       "      <td>2389</td>\n",
       "    </tr>\n",
       "  </tbody>\n",
       "</table>\n",
       "</div>"
      ],
      "text/plain": [
       "            TIME  Power\n",
       "DATE                   \n",
       "2017-01-01  0:00   2783\n",
       "2017-01-01  1:00   2634\n",
       "2017-01-01  2:00   2520\n",
       "2017-01-01  3:00   2438\n",
       "2017-01-01  4:00   2389"
      ]
     },
     "execution_count": 15,
     "metadata": {},
     "output_type": "execute_result"
    }
   ],
   "source": [
    "# 電力使用量データの読み込み\n",
    "url = 'https://sites.google.com/site/datasciencehiro/datasets/ElectricPower.csv'\n",
    "df_pow = pd.read_csv(url, comment='#', index_col='DATE', parse_dates=['DATE'], encoding='SHIFT-JIS')\n",
    "df_pow2 = df_pow.resample('D').max()\n",
    "df_pow.head()"
   ]
  },
  {
   "cell_type": "code",
   "execution_count": 16,
   "metadata": {
    "collapsed": true
   },
   "outputs": [],
   "source": [
    "# 気象データの読み込み\n",
    "url = 'https://sites.google.com/site/datasciencehiro/datasets/AirTemperature.csv'\n",
    "df = pd.read_csv(url, comment='#', index_col='Date', parse_dates=['Date'], encoding='SHIFT-JIS')\n",
    "df['MaxPower'] = df_pow2.Power"
   ]
  },
  {
   "cell_type": "code",
   "execution_count": 17,
   "metadata": {},
   "outputs": [
    {
     "data": {
      "text/html": [
       "<table class=\"simpletable\">\n",
       "<caption>OLS Regression Results</caption>\n",
       "<tr>\n",
       "  <th>Dep. Variable:</th>      <td>MaxPower</td>    <th>  R-squared:         </th> <td>   0.002</td>\n",
       "</tr>\n",
       "<tr>\n",
       "  <th>Model:</th>                 <td>OLS</td>      <th>  Adj. R-squared:    </th> <td>  -0.004</td>\n",
       "</tr>\n",
       "<tr>\n",
       "  <th>Method:</th>           <td>Least Squares</td> <th>  F-statistic:       </th> <td>  0.3421</td>\n",
       "</tr>\n",
       "<tr>\n",
       "  <th>Date:</th>             <td>土, 29  2 2020</td> <th>  Prob (F-statistic):</th>  <td> 0.711</td> \n",
       "</tr>\n",
       "<tr>\n",
       "  <th>Time:</th>               <td>06:09:11</td>    <th>  Log-Likelihood:    </th> <td> -2799.2</td>\n",
       "</tr>\n",
       "<tr>\n",
       "  <th>No. Observations:</th>    <td>   365</td>     <th>  AIC:               </th> <td>   5604.</td>\n",
       "</tr>\n",
       "<tr>\n",
       "  <th>Df Residuals:</th>        <td>   362</td>     <th>  BIC:               </th> <td>   5616.</td>\n",
       "</tr>\n",
       "<tr>\n",
       "  <th>Df Model:</th>            <td>     2</td>     <th>                     </th>     <td> </td>   \n",
       "</tr>\n",
       "<tr>\n",
       "  <th>Covariance Type:</th>    <td>nonrobust</td>   <th>                     </th>     <td> </td>   \n",
       "</tr>\n",
       "</table>\n",
       "<table class=\"simpletable\">\n",
       "<tr>\n",
       "      <td></td>         <th>coef</th>     <th>std err</th>      <th>t</th>      <th>P>|t|</th>  <th>[0.025</th>    <th>0.975]</th>  \n",
       "</tr>\n",
       "<tr>\n",
       "  <th>Intercept</th> <td> 3919.7384</td> <td>  104.068</td> <td>   37.665</td> <td> 0.000</td> <td> 3715.085</td> <td> 4124.392</td>\n",
       "</tr>\n",
       "<tr>\n",
       "  <th>MaxTemp</th>   <td>   -3.9502</td> <td>    9.762</td> <td>   -0.405</td> <td> 0.686</td> <td>  -23.147</td> <td>   15.246</td>\n",
       "</tr>\n",
       "<tr>\n",
       "  <th>MinTemp</th>   <td>    1.1954</td> <td>    9.427</td> <td>    0.127</td> <td> 0.899</td> <td>  -17.343</td> <td>   19.734</td>\n",
       "</tr>\n",
       "</table>\n",
       "<table class=\"simpletable\">\n",
       "<tr>\n",
       "  <th>Omnibus:</th>       <td>10.037</td> <th>  Durbin-Watson:     </th> <td>   0.472</td>\n",
       "</tr>\n",
       "<tr>\n",
       "  <th>Prob(Omnibus):</th> <td> 0.007</td> <th>  Jarque-Bera (JB):  </th> <td>  10.221</td>\n",
       "</tr>\n",
       "<tr>\n",
       "  <th>Skew:</th>          <td> 0.385</td> <th>  Prob(JB):          </th> <td> 0.00603</td>\n",
       "</tr>\n",
       "<tr>\n",
       "  <th>Kurtosis:</th>      <td> 2.718</td> <th>  Cond. No.          </th> <td>    101.</td>\n",
       "</tr>\n",
       "</table><br/><br/>Warnings:<br/>[1] Standard Errors assume that the covariance matrix of the errors is correctly specified."
      ],
      "text/plain": [
       "<class 'statsmodels.iolib.summary.Summary'>\n",
       "\"\"\"\n",
       "                            OLS Regression Results                            \n",
       "==============================================================================\n",
       "Dep. Variable:               MaxPower   R-squared:                       0.002\n",
       "Model:                            OLS   Adj. R-squared:                 -0.004\n",
       "Method:                 Least Squares   F-statistic:                    0.3421\n",
       "Date:                   土, 29  2 2020   Prob (F-statistic):              0.711\n",
       "Time:                        06:09:11   Log-Likelihood:                -2799.2\n",
       "No. Observations:                 365   AIC:                             5604.\n",
       "Df Residuals:                     362   BIC:                             5616.\n",
       "Df Model:                           2                                         \n",
       "Covariance Type:            nonrobust                                         \n",
       "==============================================================================\n",
       "                 coef    std err          t      P>|t|      [0.025      0.975]\n",
       "------------------------------------------------------------------------------\n",
       "Intercept   3919.7384    104.068     37.665      0.000    3715.085    4124.392\n",
       "MaxTemp       -3.9502      9.762     -0.405      0.686     -23.147      15.246\n",
       "MinTemp        1.1954      9.427      0.127      0.899     -17.343      19.734\n",
       "==============================================================================\n",
       "Omnibus:                       10.037   Durbin-Watson:                   0.472\n",
       "Prob(Omnibus):                  0.007   Jarque-Bera (JB):               10.221\n",
       "Skew:                           0.385   Prob(JB):                      0.00603\n",
       "Kurtosis:                       2.718   Cond. No.                         101.\n",
       "==============================================================================\n",
       "\n",
       "Warnings:\n",
       "[1] Standard Errors assume that the covariance matrix of the errors is correctly specified.\n",
       "\"\"\""
      ]
     },
     "execution_count": 17,
     "metadata": {},
     "output_type": "execute_result"
    }
   ],
   "source": [
    "result = smf.ols('MaxPower ~ MaxTemp + MinTemp', data=df).fit()\n",
    "result.summary()"
   ]
  },
  {
   "cell_type": "markdown",
   "metadata": {},
   "source": [
    "これより、全般的に良くない結果であることがわかる  \n",
    "\n",
    "次に、期間を区切った分析を行う"
   ]
  },
  {
   "cell_type": "code",
   "execution_count": 18,
   "metadata": {
    "collapsed": true
   },
   "outputs": [],
   "source": [
    "df1 = df['2017/1/15':'2017/4/30']\n",
    "df2 = df['2017/5/1':'2017/8/31']"
   ]
  },
  {
   "cell_type": "code",
   "execution_count": 19,
   "metadata": {},
   "outputs": [
    {
     "name": "stdout",
     "output_type": "stream",
     "text": [
      "                            OLS Regression Results                            \n",
      "==============================================================================\n",
      "Dep. Variable:               MaxPower   R-squared:                       0.707\n",
      "Model:                            OLS   Adj. R-squared:                  0.701\n",
      "Method:                 Least Squares   F-statistic:                     124.4\n",
      "Date:                   土, 29  2 2020   Prob (F-statistic):           3.41e-28\n",
      "Time:                        06:09:11   Log-Likelihood:                -738.60\n",
      "No. Observations:                 106   AIC:                             1483.\n",
      "Df Residuals:                     103   BIC:                             1491.\n",
      "Df Model:                           2                                         \n",
      "Covariance Type:            nonrobust                                         \n",
      "==============================================================================\n",
      "                 coef    std err          t      P>|t|      [0.025      0.975]\n",
      "------------------------------------------------------------------------------\n",
      "Intercept   4831.8773     89.797     53.809      0.000    4653.787    5009.968\n",
      "MaxTemp      -49.5928      8.269     -5.998      0.000     -65.992     -33.194\n",
      "MinTemp      -41.9843      9.837     -4.268      0.000     -61.495     -22.474\n",
      "==============================================================================\n",
      "Omnibus:                        5.362   Durbin-Watson:                   1.360\n",
      "Prob(Omnibus):                  0.068   Jarque-Bera (JB):                2.912\n",
      "Skew:                          -0.164   Prob(JB):                        0.233\n",
      "Kurtosis:                       2.257   Cond. No.                         58.3\n",
      "==============================================================================\n",
      "\n",
      "Warnings:\n",
      "[1] Standard Errors assume that the covariance matrix of the errors is correctly specified.\n"
     ]
    }
   ],
   "source": [
    "result1 = smf.ols('MaxPower ~ MaxTemp + MinTemp', data=df1).fit()\n",
    "print(result1.summary())"
   ]
  },
  {
   "cell_type": "code",
   "execution_count": 20,
   "metadata": {},
   "outputs": [
    {
     "name": "stdout",
     "output_type": "stream",
     "text": [
      "                            OLS Regression Results                            \n",
      "==============================================================================\n",
      "Dep. Variable:               MaxPower   R-squared:                       0.695\n",
      "Model:                            OLS   Adj. R-squared:                  0.690\n",
      "Method:                 Least Squares   F-statistic:                     136.5\n",
      "Date:                   土, 29  2 2020   Prob (F-statistic):           1.22e-31\n",
      "Time:                        06:09:11   Log-Likelihood:                -896.64\n",
      "No. Observations:                 123   AIC:                             1799.\n",
      "Df Residuals:                     120   BIC:                             1808.\n",
      "Df Model:                           2                                         \n",
      "Covariance Type:            nonrobust                                         \n",
      "==============================================================================\n",
      "                 coef    std err          t      P>|t|      [0.025      0.975]\n",
      "------------------------------------------------------------------------------\n",
      "Intercept    400.5727    232.395      1.724      0.087     -59.553     860.699\n",
      "MaxTemp       65.9611     12.546      5.258      0.000      41.122      90.801\n",
      "MinTemp       78.7165     12.934      6.086      0.000      53.107     104.326\n",
      "==============================================================================\n",
      "Omnibus:                       18.757   Durbin-Watson:                   1.134\n",
      "Prob(Omnibus):                  0.000   Jarque-Bera (JB):                9.456\n",
      "Skew:                          -0.494   Prob(JB):                      0.00884\n",
      "Kurtosis:                       2.067   Cond. No.                         255.\n",
      "==============================================================================\n",
      "\n",
      "Warnings:\n",
      "[1] Standard Errors assume that the covariance matrix of the errors is correctly specified.\n"
     ]
    }
   ],
   "source": [
    "result2 = smf.ols('MaxPower ~ MaxTemp + MinTemp', data=df2).fit()\n",
    "print(result2.summary())"
   ]
  },
  {
   "cell_type": "code",
   "execution_count": 21,
   "metadata": {},
   "outputs": [
    {
     "data": {
      "text/plain": [
       "0    3857.418964\n",
       "1    3872.206192\n",
       "dtype: float64"
      ]
     },
     "execution_count": 21,
     "metadata": {},
     "output_type": "execute_result"
    }
   ],
   "source": [
    "NewData = {'MaxTemp':[18.5,14.0], 'MinTemp':[9.0,6.5]}\n",
    "NewDf = pd.DataFrame(NewData)\n",
    "pred = result.predict(NewDf)\n",
    "pred"
   ]
  },
  {
   "cell_type": "markdown",
   "metadata": {},
   "source": [
    "### ワインの品質分析\n",
    "ワインの様々な成分の値から、その品質の推定を行う  \n",
    "ワインごとに測定された11種類の成分データとそのワインの味を評価したグレードは3人以上のワイン査定士が評価した結果の平均値であり、これはquality(0(まずい)~10(絶品))として表現される\n"
   ]
  },
  {
   "cell_type": "code",
   "execution_count": 22,
   "metadata": {},
   "outputs": [
    {
     "data": {
      "text/html": [
       "<div>\n",
       "<style scoped>\n",
       "    .dataframe tbody tr th:only-of-type {\n",
       "        vertical-align: middle;\n",
       "    }\n",
       "\n",
       "    .dataframe tbody tr th {\n",
       "        vertical-align: top;\n",
       "    }\n",
       "\n",
       "    .dataframe thead th {\n",
       "        text-align: right;\n",
       "    }\n",
       "</style>\n",
       "<table border=\"1\" class=\"dataframe\">\n",
       "  <thead>\n",
       "    <tr style=\"text-align: right;\">\n",
       "      <th></th>\n",
       "      <th>fixed_acidity</th>\n",
       "      <th>volatile_acidity</th>\n",
       "      <th>citric_acid</th>\n",
       "      <th>residual_sugar</th>\n",
       "      <th>chlorides</th>\n",
       "      <th>free_sulfur</th>\n",
       "      <th>total_sulfur_dioxide</th>\n",
       "      <th>density</th>\n",
       "      <th>pH</th>\n",
       "      <th>sulphates</th>\n",
       "      <th>alcohol</th>\n",
       "      <th>quality</th>\n",
       "    </tr>\n",
       "  </thead>\n",
       "  <tbody>\n",
       "    <tr>\n",
       "      <td>0</td>\n",
       "      <td>7.4</td>\n",
       "      <td>0.70</td>\n",
       "      <td>0.00</td>\n",
       "      <td>1.9</td>\n",
       "      <td>0.076</td>\n",
       "      <td>11.0</td>\n",
       "      <td>34.0</td>\n",
       "      <td>0.9978</td>\n",
       "      <td>3.51</td>\n",
       "      <td>0.56</td>\n",
       "      <td>9.4</td>\n",
       "      <td>5</td>\n",
       "    </tr>\n",
       "    <tr>\n",
       "      <td>1</td>\n",
       "      <td>7.8</td>\n",
       "      <td>0.88</td>\n",
       "      <td>0.00</td>\n",
       "      <td>2.6</td>\n",
       "      <td>0.098</td>\n",
       "      <td>25.0</td>\n",
       "      <td>67.0</td>\n",
       "      <td>0.9968</td>\n",
       "      <td>3.20</td>\n",
       "      <td>0.68</td>\n",
       "      <td>9.8</td>\n",
       "      <td>5</td>\n",
       "    </tr>\n",
       "    <tr>\n",
       "      <td>2</td>\n",
       "      <td>7.8</td>\n",
       "      <td>0.76</td>\n",
       "      <td>0.04</td>\n",
       "      <td>2.3</td>\n",
       "      <td>0.092</td>\n",
       "      <td>15.0</td>\n",
       "      <td>54.0</td>\n",
       "      <td>0.9970</td>\n",
       "      <td>3.26</td>\n",
       "      <td>0.65</td>\n",
       "      <td>9.8</td>\n",
       "      <td>5</td>\n",
       "    </tr>\n",
       "    <tr>\n",
       "      <td>3</td>\n",
       "      <td>11.2</td>\n",
       "      <td>0.28</td>\n",
       "      <td>0.56</td>\n",
       "      <td>1.9</td>\n",
       "      <td>0.075</td>\n",
       "      <td>17.0</td>\n",
       "      <td>60.0</td>\n",
       "      <td>0.9980</td>\n",
       "      <td>3.16</td>\n",
       "      <td>0.58</td>\n",
       "      <td>9.8</td>\n",
       "      <td>6</td>\n",
       "    </tr>\n",
       "    <tr>\n",
       "      <td>4</td>\n",
       "      <td>7.4</td>\n",
       "      <td>0.70</td>\n",
       "      <td>0.00</td>\n",
       "      <td>1.9</td>\n",
       "      <td>0.076</td>\n",
       "      <td>11.0</td>\n",
       "      <td>34.0</td>\n",
       "      <td>0.9978</td>\n",
       "      <td>3.51</td>\n",
       "      <td>0.56</td>\n",
       "      <td>9.4</td>\n",
       "      <td>5</td>\n",
       "    </tr>\n",
       "    <tr>\n",
       "      <td>5</td>\n",
       "      <td>7.4</td>\n",
       "      <td>0.66</td>\n",
       "      <td>0.00</td>\n",
       "      <td>1.8</td>\n",
       "      <td>0.075</td>\n",
       "      <td>13.0</td>\n",
       "      <td>40.0</td>\n",
       "      <td>0.9978</td>\n",
       "      <td>3.51</td>\n",
       "      <td>0.56</td>\n",
       "      <td>9.4</td>\n",
       "      <td>5</td>\n",
       "    </tr>\n",
       "  </tbody>\n",
       "</table>\n",
       "</div>"
      ],
      "text/plain": [
       "   fixed_acidity  volatile_acidity  citric_acid  residual_sugar  chlorides  \\\n",
       "0            7.4              0.70         0.00             1.9      0.076   \n",
       "1            7.8              0.88         0.00             2.6      0.098   \n",
       "2            7.8              0.76         0.04             2.3      0.092   \n",
       "3           11.2              0.28         0.56             1.9      0.075   \n",
       "4            7.4              0.70         0.00             1.9      0.076   \n",
       "5            7.4              0.66         0.00             1.8      0.075   \n",
       "\n",
       "   free_sulfur  total_sulfur_dioxide  density    pH  sulphates  alcohol  \\\n",
       "0         11.0                  34.0   0.9978  3.51       0.56      9.4   \n",
       "1         25.0                  67.0   0.9968  3.20       0.68      9.8   \n",
       "2         15.0                  54.0   0.9970  3.26       0.65      9.8   \n",
       "3         17.0                  60.0   0.9980  3.16       0.58      9.8   \n",
       "4         11.0                  34.0   0.9978  3.51       0.56      9.4   \n",
       "5         13.0                  40.0   0.9978  3.51       0.56      9.4   \n",
       "\n",
       "   quality  \n",
       "0        5  \n",
       "1        5  \n",
       "2        5  \n",
       "3        6  \n",
       "4        5  \n",
       "5        5  "
      ]
     },
     "execution_count": 22,
     "metadata": {},
     "output_type": "execute_result"
    }
   ],
   "source": [
    "url = 'https://sites.google.com/site/datasciencehiro/datasets/winequality-red_mod.csv'\n",
    "wine_set = pd.read_csv(url, sep=';')\n",
    "wine_set.head(6)"
   ]
  },
  {
   "cell_type": "code",
   "execution_count": 23,
   "metadata": {},
   "outputs": [
    {
     "data": {
      "text/html": [
       "<table class=\"simpletable\">\n",
       "<caption>OLS Regression Results</caption>\n",
       "<tr>\n",
       "  <th>Dep. Variable:</th>       <td>quality</td>    <th>  R-squared:         </th> <td>   0.351</td> \n",
       "</tr>\n",
       "<tr>\n",
       "  <th>Model:</th>                 <td>OLS</td>      <th>  Adj. R-squared:    </th> <td>   0.349</td> \n",
       "</tr>\n",
       "<tr>\n",
       "  <th>Method:</th>           <td>Least Squares</td> <th>  F-statistic:       </th> <td>   172.7</td> \n",
       "</tr>\n",
       "<tr>\n",
       "  <th>Date:</th>             <td>土, 29  2 2020</td> <th>  Prob (F-statistic):</th> <td>5.48e-147</td>\n",
       "</tr>\n",
       "<tr>\n",
       "  <th>Time:</th>               <td>06:09:13</td>    <th>  Log-Likelihood:    </th> <td> -1580.4</td> \n",
       "</tr>\n",
       "<tr>\n",
       "  <th>No. Observations:</th>    <td>  1599</td>     <th>  AIC:               </th> <td>   3173.</td> \n",
       "</tr>\n",
       "<tr>\n",
       "  <th>Df Residuals:</th>        <td>  1593</td>     <th>  BIC:               </th> <td>   3205.</td> \n",
       "</tr>\n",
       "<tr>\n",
       "  <th>Df Model:</th>            <td>     5</td>     <th>                     </th>     <td> </td>    \n",
       "</tr>\n",
       "<tr>\n",
       "  <th>Covariance Type:</th>    <td>nonrobust</td>   <th>                     </th>     <td> </td>    \n",
       "</tr>\n",
       "</table>\n",
       "<table class=\"simpletable\">\n",
       "<tr>\n",
       "            <td></td>              <th>coef</th>     <th>std err</th>      <th>t</th>      <th>P>|t|</th>  <th>[0.025</th>    <th>0.975]</th>  \n",
       "</tr>\n",
       "<tr>\n",
       "  <th>Intercept</th>            <td>    3.0049</td> <td>    0.204</td> <td>   14.747</td> <td> 0.000</td> <td>    2.605</td> <td>    3.405</td>\n",
       "</tr>\n",
       "<tr>\n",
       "  <th>volatile_acidity</th>     <td>   -1.1419</td> <td>    0.097</td> <td>  -11.779</td> <td> 0.000</td> <td>   -1.332</td> <td>   -0.952</td>\n",
       "</tr>\n",
       "<tr>\n",
       "  <th>chlorides</th>            <td>   -1.7048</td> <td>    0.392</td> <td>   -4.352</td> <td> 0.000</td> <td>   -2.473</td> <td>   -0.937</td>\n",
       "</tr>\n",
       "<tr>\n",
       "  <th>total_sulfur_dioxide</th> <td>   -0.0023</td> <td>    0.001</td> <td>   -4.544</td> <td> 0.000</td> <td>   -0.003</td> <td>   -0.001</td>\n",
       "</tr>\n",
       "<tr>\n",
       "  <th>sulphates</th>            <td>    0.9148</td> <td>    0.110</td> <td>    8.296</td> <td> 0.000</td> <td>    0.699</td> <td>    1.131</td>\n",
       "</tr>\n",
       "<tr>\n",
       "  <th>alcohol</th>              <td>    0.2771</td> <td>    0.016</td> <td>   16.811</td> <td> 0.000</td> <td>    0.245</td> <td>    0.309</td>\n",
       "</tr>\n",
       "</table>\n",
       "<table class=\"simpletable\">\n",
       "<tr>\n",
       "  <th>Omnibus:</th>       <td>25.233</td> <th>  Durbin-Watson:     </th> <td>   1.746</td>\n",
       "</tr>\n",
       "<tr>\n",
       "  <th>Prob(Omnibus):</th> <td> 0.000</td> <th>  Jarque-Bera (JB):  </th> <td>  37.739</td>\n",
       "</tr>\n",
       "<tr>\n",
       "  <th>Skew:</th>          <td>-0.153</td> <th>  Prob(JB):          </th> <td>6.38e-09</td>\n",
       "</tr>\n",
       "<tr>\n",
       "  <th>Kurtosis:</th>      <td> 3.688</td> <th>  Cond. No.          </th> <td>1.40e+03</td>\n",
       "</tr>\n",
       "</table><br/><br/>Warnings:<br/>[1] Standard Errors assume that the covariance matrix of the errors is correctly specified.<br/>[2] The condition number is large, 1.4e+03. This might indicate that there are<br/>strong multicollinearity or other numerical problems."
      ],
      "text/plain": [
       "<class 'statsmodels.iolib.summary.Summary'>\n",
       "\"\"\"\n",
       "                            OLS Regression Results                            \n",
       "==============================================================================\n",
       "Dep. Variable:                quality   R-squared:                       0.351\n",
       "Model:                            OLS   Adj. R-squared:                  0.349\n",
       "Method:                 Least Squares   F-statistic:                     172.7\n",
       "Date:                   土, 29  2 2020   Prob (F-statistic):          5.48e-147\n",
       "Time:                        06:09:13   Log-Likelihood:                -1580.4\n",
       "No. Observations:                1599   AIC:                             3173.\n",
       "Df Residuals:                    1593   BIC:                             3205.\n",
       "Df Model:                           5                                         \n",
       "Covariance Type:            nonrobust                                         \n",
       "========================================================================================\n",
       "                           coef    std err          t      P>|t|      [0.025      0.975]\n",
       "----------------------------------------------------------------------------------------\n",
       "Intercept                3.0049      0.204     14.747      0.000       2.605       3.405\n",
       "volatile_acidity        -1.1419      0.097    -11.779      0.000      -1.332      -0.952\n",
       "chlorides               -1.7048      0.392     -4.352      0.000      -2.473      -0.937\n",
       "total_sulfur_dioxide    -0.0023      0.001     -4.544      0.000      -0.003      -0.001\n",
       "sulphates                0.9148      0.110      8.296      0.000       0.699       1.131\n",
       "alcohol                  0.2771      0.016     16.811      0.000       0.245       0.309\n",
       "==============================================================================\n",
       "Omnibus:                       25.233   Durbin-Watson:                   1.746\n",
       "Prob(Omnibus):                  0.000   Jarque-Bera (JB):               37.739\n",
       "Skew:                          -0.153   Prob(JB):                     6.38e-09\n",
       "Kurtosis:                       3.688   Cond. No.                     1.40e+03\n",
       "==============================================================================\n",
       "\n",
       "Warnings:\n",
       "[1] Standard Errors assume that the covariance matrix of the errors is correctly specified.\n",
       "[2] The condition number is large, 1.4e+03. This might indicate that there are\n",
       "strong multicollinearity or other numerical problems.\n",
       "\"\"\""
      ]
     },
     "execution_count": 23,
     "metadata": {},
     "output_type": "execute_result"
    }
   ],
   "source": [
    "ols_model = \"quality ~ volatile_acidity + chlorides + total_sulfur_dioxide + sulphates + alcohol\" # 重回帰分析の目的変数と説明変数の設定\n",
    "results = smf.ols(formula=ols_model, data=wine_set).fit()\n",
    "results.summary()"
   ]
  },
  {
   "cell_type": "markdown",
   "metadata": {},
   "source": [
    "## 一般化線形モデル\n",
    "### 一般化線形モデルの概要\n",
    "GLMとして離散確率変数を対象としたポアソン回帰モデルとロジスティック回帰モデルについて  \n",
    "これまでは、目的変数をy、説明変数をxとおいており、これは変わらない  \n",
    "GLMではyを予測するのではなく、yが従う確率分布のパラメータを予測する\n",
    "\n",
    "### ポアソン回帰モデル\n",
    "目的変数yは0から始まる計数データとする  \n",
    "関数式などは省略する  \n",
    "\n",
    "### z = β<sub>0</sub>のとき\n",
    "ポアソン回帰モデルを用いたシミュレーションを通して、何を求めるかを見てみる。  \n",
    "ポアソン分布の平均値λをスクリプト中でlamとし、ポアソン分布に従う目的変数(y)をNum個発生させ、そのヒストグラムと最所のn点のプロットを行う。"
   ]
  },
  {
   "cell_type": "code",
   "execution_count": 24,
   "metadata": {},
   "outputs": [
    {
     "data": {
      "text/plain": [
       "[<matplotlib.lines.Line2D at 0x13a5cc550>]"
      ]
     },
     "execution_count": 24,
     "metadata": {},
     "output_type": "execute_result"
    },
    {
     "data": {
      "image/png": "[encoded data removed]",
      "text/plain": [
       "<Figure size 432x288 with 1 Axes>"
      ]
     },
     "metadata": {},
     "output_type": "display_data"
    }
   ],
   "source": [
    "%matplotlib inline\n",
    "Num = 1000\n",
    "lam = 5\n",
    "y = np.random.poisson(lam,Num)\n",
    "\n",
    "count, bins, ignored = plt.hist(y, 14, density=False)\n",
    "n = 100\n",
    "plt.plot(y[0:n])"
   ]
  },
  {
   "cell_type": "markdown",
   "metadata": {
    "collapsed": true
   },
   "source": [
    "このデータを用いて一般線形化モデルを解くのが次である。"
   ]
  },
  {
   "cell_type": "code",
   "execution_count": 25,
   "metadata": {},
   "outputs": [
    {
     "data": {
      "text/html": [
       "<table class=\"simpletable\">\n",
       "<caption>Generalized Linear Model Regression Results</caption>\n",
       "<tr>\n",
       "  <th>Dep. Variable:</th>         <td>y</td>       <th>  No. Observations:  </th>  <td>  1000</td> \n",
       "</tr>\n",
       "<tr>\n",
       "  <th>Model:</th>                <td>GLM</td>      <th>  Df Residuals:      </th>  <td>   998</td> \n",
       "</tr>\n",
       "<tr>\n",
       "  <th>Model Family:</th>       <td>Poisson</td>    <th>  Df Model:          </th>  <td>     1</td> \n",
       "</tr>\n",
       "<tr>\n",
       "  <th>Link Function:</th>        <td>log</td>      <th>  Scale:             </th> <td>  1.0000</td>\n",
       "</tr>\n",
       "<tr>\n",
       "  <th>Method:</th>              <td>IRLS</td>      <th>  Log-Likelihood:    </th> <td> -2198.9</td>\n",
       "</tr>\n",
       "<tr>\n",
       "  <th>Date:</th>            <td>土, 29  2 2020</td> <th>  Deviance:          </th> <td>  1034.7</td>\n",
       "</tr>\n",
       "<tr>\n",
       "  <th>Time:</th>              <td>06:09:13</td>    <th>  Pearson chi2:      </th>  <td>  964.</td> \n",
       "</tr>\n",
       "<tr>\n",
       "  <th>No. Iterations:</th>        <td>4</td>       <th>                     </th>     <td> </td>   \n",
       "</tr>\n",
       "<tr>\n",
       "  <th>Covariance Type:</th>   <td>nonrobust</td>   <th>                     </th>     <td> </td>   \n",
       "</tr>\n",
       "</table>\n",
       "<table class=\"simpletable\">\n",
       "<tr>\n",
       "      <td></td>         <th>coef</th>     <th>std err</th>      <th>z</th>      <th>P>|z|</th>  <th>[0.025</th>    <th>0.975]</th>  \n",
       "</tr>\n",
       "<tr>\n",
       "  <th>Intercept</th> <td>    1.6283</td> <td>    0.028</td> <td>   57.935</td> <td> 0.000</td> <td>    1.573</td> <td>    1.683</td>\n",
       "</tr>\n",
       "<tr>\n",
       "  <th>x</th>         <td> -3.11e-05</td> <td> 4.89e-05</td> <td>   -0.636</td> <td> 0.525</td> <td>   -0.000</td> <td> 6.48e-05</td>\n",
       "</tr>\n",
       "</table>"
      ],
      "text/plain": [
       "<class 'statsmodels.iolib.summary.Summary'>\n",
       "\"\"\"\n",
       "                 Generalized Linear Model Regression Results                  \n",
       "==============================================================================\n",
       "Dep. Variable:                      y   No. Observations:                 1000\n",
       "Model:                            GLM   Df Residuals:                      998\n",
       "Model Family:                 Poisson   Df Model:                            1\n",
       "Link Function:                    log   Scale:                          1.0000\n",
       "Method:                          IRLS   Log-Likelihood:                -2198.9\n",
       "Date:                   土, 29  2 2020   Deviance:                       1034.7\n",
       "Time:                        06:09:13   Pearson chi2:                     964.\n",
       "No. Iterations:                     4                                         \n",
       "Covariance Type:            nonrobust                                         \n",
       "==============================================================================\n",
       "                 coef    std err          z      P>|z|      [0.025      0.975]\n",
       "------------------------------------------------------------------------------\n",
       "Intercept      1.6283      0.028     57.935      0.000       1.573       1.683\n",
       "x           -3.11e-05   4.89e-05     -0.636      0.525      -0.000    6.48e-05\n",
       "==============================================================================\n",
       "\"\"\""
      ]
     },
     "execution_count": 25,
     "metadata": {},
     "output_type": "execute_result"
    }
   ],
   "source": [
    "x = range(len(y))\n",
    "df = pd.DataFrame({'x': x, 'y': y})\n",
    "glm_model = 'y ~ x'\n",
    "result = smf.glm(formula=glm_model, data=df, family=sm.families.Poisson(link=sm.families.links.log)).fit()\n",
    "result.summary()"
   ]
  },
  {
   "cell_type": "markdown",
   "metadata": {},
   "source": [
    "引数family(族)は、用いる確率分布を指定し、linkはリンク関数を指定する。  \n",
    "この結果より、xの計数(coef)は、ほぼ0とみなせる。Interseptはβ<sub>0</sub>のことである。  \n",
    "この値に対して、次の計算を行う。"
   ]
  },
  {
   "cell_type": "code",
   "execution_count": 26,
   "metadata": {},
   "outputs": [
    {
     "name": "stdout",
     "output_type": "stream",
     "text": [
      "exp(b0) =  5.095341489147122\n",
      "Mean of y =  5.017\n"
     ]
    }
   ],
   "source": [
    "b0, b1 = result.params\n",
    "print('exp(b0) = ', np.exp(b0))\n",
    "print('Mean of y = ', df.y.mean())"
   ]
  },
  {
   "cell_type": "markdown",
   "metadata": {
    "collapsed": true
   },
   "source": [
    "上の出力の1行目は、λ = exp(β<sub>0</sub>)の計算を示しており、2行目はyの標本平均を計算している。\n",
    "データ発生時に与えたポアソン分布の平均値lamと比較して、両者とも近い値を示している。"
   ]
  },
  {
   "cell_type": "markdown",
   "metadata": {},
   "source": [
    "### z = β<sub>0</sub> +  β<sub>1</sub> x<sub>1</sub>の例"
   ]
  },
  {
   "cell_type": "markdown",
   "metadata": {},
   "source": [
    "この場合のポアソン回帰モデルを用いたシミュレーションは工夫がいる。なぜならば、平均値λ=exp(z)が変化するためである。"
   ]
  },
  {
   "cell_type": "code",
   "execution_count": 27,
   "metadata": {
    "collapsed": true
   },
   "outputs": [],
   "source": [
    "Num = 1000\n",
    "x = np.zeros(Num)\n",
    "y = np.zeros(Num)\n",
    "b0, b1 = 0.5, 3.5\n",
    "for i in range(Num) :\n",
    "    x[i] = i\n",
    "    lam = np.exp(b0+(b1/float(Num)) * (float(i)))\n",
    "    y[i] = np.random.poisson(lam, 1)"
   ]
  },
  {
   "cell_type": "markdown",
   "metadata": {},
   "source": [
    "このデータに対する回帰分析を次のように行う。"
   ]
  },
  {
   "cell_type": "code",
   "execution_count": 28,
   "metadata": {},
   "outputs": [
    {
     "name": "stdout",
     "output_type": "stream",
     "text": [
      "                 Generalized Linear Model Regression Results                  \n",
      "==============================================================================\n",
      "Dep. Variable:                      y   No. Observations:                 1000\n",
      "Model:                            GLM   Df Residuals:                      998\n",
      "Model Family:                 Poisson   Df Model:                            1\n",
      "Link Function:                    log   Scale:                          1.0000\n",
      "Method:                          IRLS   Log-Likelihood:                -2493.4\n",
      "Date:                   土, 29  2 2020   Deviance:                       994.03\n",
      "Time:                        06:09:13   Pearson chi2:                     962.\n",
      "No. Iterations:                     5                                         \n",
      "Covariance Type:            nonrobust                                         \n",
      "==============================================================================\n",
      "                 coef    std err          z      P>|z|      [0.025      0.975]\n",
      "------------------------------------------------------------------------------\n",
      "Intercept      0.4626      0.029     16.065      0.000       0.406       0.519\n",
      "x              0.0035    3.7e-05     95.450      0.000       0.003       0.004\n",
      "==============================================================================\n"
     ]
    }
   ],
   "source": [
    "df = pd.DataFrame({'x': x, 'y': y})\n",
    "glm_model = 'y ~ x'\n",
    "result = smf.glm(formula=glm_model, data=df, family=sm.families.Poisson(link=sm.families.links.log)).fit()\n",
    "print(result.summary())"
   ]
  },
  {
   "cell_type": "markdown",
   "metadata": {},
   "source": [
    "この結果を見て、2つの係数はどちらも0とは言えないので、これらを変換する計算と結果を次に示す。"
   ]
  },
  {
   "cell_type": "code",
   "execution_count": 29,
   "metadata": {},
   "outputs": [
    {
     "name": "stdout",
     "output_type": "stream",
     "text": [
      "b0 = 0.462594 b1 = 3.529948\n"
     ]
    }
   ],
   "source": [
    "b0, b1 = result.params\n",
    "b1 = b1 * Num\n",
    "print(\"b0 = %f b1 = %f\" % (b0, b1))"
   ]
  },
  {
   "cell_type": "markdown",
   "metadata": {},
   "source": [
    "この結果と真のb0, b1の値を比べて、近い値が得られていることが認められる。  \n",
    "この値を用いて、λ<sub>i</sub>がどのように変化したかを図示する。"
   ]
  },
  {
   "cell_type": "code",
   "execution_count": 30,
   "metadata": {},
   "outputs": [
    {
     "data": {
      "text/plain": [
       "[<matplotlib.lines.Line2D at 0x13a6e7080>]"
      ]
     },
     "execution_count": 30,
     "metadata": {},
     "output_type": "execute_result"
    },
    {
     "data": {
      "image/png": "[encoded data removed]",
      "text/plain": [
       "<Figure size 432x288 with 1 Axes>"
      ]
     },
     "metadata": {},
     "output_type": "display_data"
    }
   ],
   "source": [
    "y_pre = np.exp(b0 + (b1/float(Num))*x)\n",
    "plt.scatter(x[0:Num], y[0:Num])\n",
    "plt.plot(x, y_pre, color='white')"
   ]
  },
  {
   "cell_type": "markdown",
   "metadata": {},
   "source": [
    "この図ではyの集合平均が白線でよく表されているというのが正しい表現である。  \n",
    "すなわち、ポアソン回帰モデルはλ<sub>i</sub>を推定していることがわかる。  \n",
    "上記のデータをシャッフルして、回帰分析をした結果は同じである。このときのプロットは、見た目的には右肩上がりではないが、ポアソン回帰モデルが適用できる。ポアソン分布に従うデータであるならば、ポアソン回帰モデルが適用できることを意味する。  \n",
    "これより、データを見ただけで適用できるかどうか判断することは難しいため、データの物理的背景から推測することが多い。"
   ]
  },
  {
   "cell_type": "markdown",
   "metadata": {},
   "source": [
    "### ロジスティック回帰モデル\n",
    "ロジスティック回帰モデルを用いた回帰分析では、目的変数yが0,1の2値をとるデータによく適用される。\n",
    "\n",
    "#### ロジスティック関数の導入\n",
    "ロジスティック回帰モデルの目的は、確率pを説明変数から推定できるモデルを得ることにある。\n",
    "\n",
    "#### カブトムシ問題\n",
    "薬品の投薬量とカブトムシの生存率を取り上げる。  \n",
    "データは、n:薬品を与えたカブトムシの数、x:薬品の投薬量、y:そのうち死んだ数  \n",
    "死亡(y)と生存(n-y)で表されるような場合のスクリプトは次のようになる。"
   ]
  },
  {
   "cell_type": "code",
   "execution_count": 31,
   "metadata": {},
   "outputs": [
    {
     "name": "stdout",
     "output_type": "stream",
     "text": [
      "                 Generalized Linear Model Regression Results                  \n",
      "==============================================================================\n",
      "Dep. Variable:      ['y', 'I(n - y)']   No. Observations:                    8\n",
      "Model:                            GLM   Df Residuals:                        6\n",
      "Model Family:                Binomial   Df Model:                            1\n",
      "Link Function:                  logit   Scale:                          1.0000\n",
      "Method:                          IRLS   Log-Likelihood:                -18.715\n",
      "Date:                   土, 29  2 2020   Deviance:                       11.232\n",
      "Time:                        06:09:13   Pearson chi2:                     10.0\n",
      "No. Iterations:                     6                                         \n",
      "Covariance Type:            nonrobust                                         \n",
      "==============================================================================\n",
      "                 coef    std err          z      P>|z|      [0.025      0.975]\n",
      "------------------------------------------------------------------------------\n",
      "Intercept    -60.7175      5.181    -11.720      0.000     -70.871     -50.563\n",
      "x             34.2703      2.912     11.768      0.000      28.563      39.978\n",
      "==============================================================================\n"
     ]
    }
   ],
   "source": [
    "df = pd.DataFrame({'x':[1.6907, 1.7242, 1.7552, 1.7842, 1.8113, 1.8369, 1.861, 1.8839],\n",
    "                   'n':[59, 60, 62, 56, 63, 59, 62, 60],\n",
    "                   'y':[ 6, 13, 18, 28, 52, 53, 61, 60]})\n",
    "\n",
    "glm_model = 'y + I(n-y) ~ x'\n",
    "result = smf.glm(formula=glm_model, data=df, family=sm.families.Binomial(link=sm.families.links.logit)).fit()\n",
    "print(result.summary())\n",
    "\n",
    "b0, b1 = result.params"
   ]
  },
  {
   "cell_type": "markdown",
   "metadata": {},
   "source": [
    "#### 成績アップの分析"
   ]
  },
  {
   "cell_type": "code",
   "execution_count": 32,
   "metadata": {},
   "outputs": [
    {
     "data": {
      "text/html": [
       "<div>\n",
       "<style scoped>\n",
       "    .dataframe tbody tr th:only-of-type {\n",
       "        vertical-align: middle;\n",
       "    }\n",
       "\n",
       "    .dataframe tbody tr th {\n",
       "        vertical-align: top;\n",
       "    }\n",
       "\n",
       "    .dataframe thead th {\n",
       "        text-align: right;\n",
       "    }\n",
       "</style>\n",
       "<table border=\"1\" class=\"dataframe\">\n",
       "  <thead>\n",
       "    <tr style=\"text-align: right;\">\n",
       "      <th></th>\n",
       "      <th>GPA</th>\n",
       "      <th>TUCE</th>\n",
       "      <th>PSI</th>\n",
       "      <th>GRADE</th>\n",
       "    </tr>\n",
       "  </thead>\n",
       "  <tbody>\n",
       "    <tr>\n",
       "      <td>0</td>\n",
       "      <td>2.66</td>\n",
       "      <td>20.0</td>\n",
       "      <td>0.0</td>\n",
       "      <td>0.0</td>\n",
       "    </tr>\n",
       "    <tr>\n",
       "      <td>1</td>\n",
       "      <td>2.89</td>\n",
       "      <td>22.0</td>\n",
       "      <td>0.0</td>\n",
       "      <td>0.0</td>\n",
       "    </tr>\n",
       "    <tr>\n",
       "      <td>2</td>\n",
       "      <td>3.28</td>\n",
       "      <td>24.0</td>\n",
       "      <td>0.0</td>\n",
       "      <td>0.0</td>\n",
       "    </tr>\n",
       "    <tr>\n",
       "      <td>3</td>\n",
       "      <td>2.92</td>\n",
       "      <td>12.0</td>\n",
       "      <td>0.0</td>\n",
       "      <td>0.0</td>\n",
       "    </tr>\n",
       "    <tr>\n",
       "      <td>4</td>\n",
       "      <td>4.00</td>\n",
       "      <td>21.0</td>\n",
       "      <td>0.0</td>\n",
       "      <td>1.0</td>\n",
       "    </tr>\n",
       "  </tbody>\n",
       "</table>\n",
       "</div>"
      ],
      "text/plain": [
       "    GPA  TUCE  PSI  GRADE\n",
       "0  2.66  20.0  0.0    0.0\n",
       "1  2.89  22.0  0.0    0.0\n",
       "2  3.28  24.0  0.0    0.0\n",
       "3  2.92  12.0  0.0    0.0\n",
       "4  4.00  21.0  0.0    1.0"
      ]
     },
     "execution_count": 32,
     "metadata": {},
     "output_type": "execute_result"
    }
   ],
   "source": [
    "data = sm.datasets.spector.load().data\n",
    "df = pd.DataFrame(data)\n",
    "df.head()"
   ]
  },
  {
   "cell_type": "markdown",
   "metadata": {},
   "source": [
    "これはPSIという教育プログラムを受けたら、成績が上がるかどうかを検証したデータである。  \n",
    "データはそれぞれ、GPA:成績、TUCE:テストの結果、PSI:ある教育プログラムを受けたかどうか、GRADE:成績が上がったかどうか、である。  \n",
    "目的変数をGRADEとして、PSIの受講が成績上昇に寄与したかどうかを調べるため、ほかの要因も説明変数として与える。  \n",
    "GRADEが2値変数であるため、ロジスティック回帰モデルを用いた回帰分析を行う。"
   ]
  },
  {
   "cell_type": "code",
   "execution_count": 33,
   "metadata": {},
   "outputs": [
    {
     "name": "stdout",
     "output_type": "stream",
     "text": [
      "                 Generalized Linear Model Regression Results                  \n",
      "==============================================================================\n",
      "Dep. Variable:                  GRADE   No. Observations:                   32\n",
      "Model:                            GLM   Df Residuals:                       28\n",
      "Model Family:                Binomial   Df Model:                            3\n",
      "Link Function:                  logit   Scale:                          1.0000\n",
      "Method:                          IRLS   Log-Likelihood:                -12.890\n",
      "Date:                   土, 29  2 2020   Deviance:                       25.779\n",
      "Time:                        06:09:13   Pearson chi2:                     27.3\n",
      "No. Iterations:                     5                                         \n",
      "Covariance Type:            nonrobust                                         \n",
      "==============================================================================\n",
      "                 coef    std err          z      P>|z|      [0.025      0.975]\n",
      "------------------------------------------------------------------------------\n",
      "Intercept    -13.0213      4.931     -2.641      0.008     -22.686      -3.356\n",
      "GPA            2.8261      1.263      2.238      0.025       0.351       5.301\n",
      "TUCE           0.0952      0.142      0.672      0.501      -0.182       0.373\n",
      "PSI            2.3787      1.065      2.234      0.025       0.292       4.465\n",
      "==============================================================================\n"
     ]
    }
   ],
   "source": [
    "glm_model = 'GRADE ~ GPA + TUCE + PSI'\n",
    "fit = smf.glm(formula=glm_model, data=df, family=sm.families.Binomial(link=sm.families.links.logit))\n",
    "result = fit.fit()\n",
    "print(result.summary())"
   ]
  },
  {
   "cell_type": "markdown",
   "metadata": {},
   "source": [
    "この結果より、TUCEの計数は他2つより低いので、影響は小さいと言える。  \n",
    "次にPSIとGPAを比べた場合、若干ではあるが、GPAの方がPSIよりGRADEへの影響が大きいと言える。(これだけでは判断しにくいが)"
   ]
  },
  {
   "cell_type": "markdown",
   "metadata": {},
   "source": [
    "### 数学的説明"
   ]
  }
 ],
 "metadata": {
  "kernelspec": {
   "display_name": "Python 3",
   "language": "python",
   "name": "python3"
  },
  "language_info": {
   "codemirror_mode": {
    "name": "ipython",
    "version": 3
   },
   "file_extension": ".py",
   "mimetype": "text/x-python",
   "name": "python",
   "nbconvert_exporter": "python",
   "pygments_lexer": "ipython3",
   "version": "3.6.3"
  },
  "toc": {
   "base_numbering": 1,
   "nav_menu": {},
   "number_sections": true,
   "sideBar": true,
   "skip_h1_title": false,
   "title_cell": "Table of Contents",
   "title_sidebar": "Contents",
   "toc_cell": false,
   "toc_position": {},
   "toc_section_display": true,
   "toc_window_display": false
  }
 },
 "nbformat": 4,
 "nbformat_minor": 2
}

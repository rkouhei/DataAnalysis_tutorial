{
 "cells": [
  {
   "cell_type": "markdown",
   "metadata": {},
   "source": [
    "# 統計の基礎\n",
    "統計は、標本を調べることで母集団の性質を明らかにすることを目的として、個々の要素を標本化してこれを分析し、母集団の性質を数量的に表すことである\n",
    "## 統計とは\n",
    "母集団の特徴を表すのが母数θ  \n",
    "母数は母平均μ、母分散σ^2などのいくつかの候補がある  \n",
    "母集団すべてを知ることができない場合には、これから要素をいくつか抽出し、これを標本化という  \n",
    "標本から計算される数値を統計量といい、これを通して母数を推定する"
   ]
  },
  {
   "cell_type": "markdown",
   "metadata": {},
   "source": [
    "## 推定\n",
    "標本から得られた統計量をもとに、母数の存在する範囲を求めることを統計的推定という  \n",
    "推定には1つの値を推定する点推定と、範囲を推定する区間推定がある"
   ]
  },
  {
   "cell_type": "markdown",
   "metadata": {},
   "source": [
    "### 点推定\n",
    "不偏性とは、推定量の期待値が母数\bに一致することである  \n",
    "標本平均の分布を見てみると、与えた平均値の周りに分布しているようすが認められる"
   ]
  },
  {
   "cell_type": "code",
   "execution_count": 1,
   "metadata": {},
   "outputs": [
    {
     "data": {
      "text/plain": [
       "(array([0., 0., 0., 0., 1., 3., 4., 3., 8., 7., 3., 9., 4., 5., 1., 2., 0.,\n",
       "        0., 0., 0.]),\n",
       " array([1.5 , 1.55, 1.6 , 1.65, 1.7 , 1.75, 1.8 , 1.85, 1.9 , 1.95, 2.  ,\n",
       "        2.05, 2.1 , 2.15, 2.2 , 2.25, 2.3 , 2.35, 2.4 , 2.45, 2.5 ]),\n",
       " <a list of 20 Patch objects>)"
      ]
     },
     "execution_count": 1,
     "metadata": {},
     "output_type": "execute_result"
    }
   ],
   "source": [
    "from scipy.stats import norm\n",
    "import numpy as np\n",
    "import matplotlib.pyplot as plt\n",
    "\n",
    "num = 50\n",
    "N = 10\n",
    "mean, std = 2, 0.5 # それぞれ平均値と標準偏差\n",
    "mu = np.zeros(num)\n",
    "for i in range(num) :\n",
    "    mu[i] = np.mean(norm.rvs(loc=mean, scale=std, size=N))\n",
    "plt.hist(mu, bins=20, range=(1.5,2.5))"
   ]
  },
  {
   "cell_type": "markdown",
   "metadata": {},
   "source": [
    "#### 標本分散の自由度\n",
    "自由度とは、いくつかの変数を勝手にその値を動かしてもよいかを測る指標である"
   ]
  },
  {
   "cell_type": "markdown",
   "metadata": {},
   "source": [
    "#### 一致性\n",
    "標本数が増えるほど、推定量がだんだんと母数に近づく性質を一致性という。  \n",
    "このような性質を持つ推定量のことを一致推定量という。"
   ]
  },
  {
   "cell_type": "markdown",
   "metadata": {},
   "source": [
    "### 区間推定\n",
    "標本平均や標本分散は母平均や母分散の周りに分布する。これらがどれくらいの確率で、その分布のどれほどの区間に収まるのか推定することを区間推定という。  \n",
    "これの指標の一つとして信頼区間がある。信頼区間は、(1-α)の確率で真の母数の値θが区間[L,U]に入る区間の事を言う。  \n",
    "区間[L,U]をパーセント点の表記[-Zα/2,Zα/2]に置き換えて考える。  \n",
    "1-α=0.9を求める場合は以下のようにする。"
   ]
  },
  {
   "cell_type": "code",
   "execution_count": 5,
   "metadata": {},
   "outputs": [
    {
     "name": "stdout",
     "output_type": "stream",
     "text": [
      "za =  -2.5758293035489004  zb =   2.5758293035489004\n"
     ]
    }
   ],
   "source": [
    "alp = 0.01\n",
    "za, zb = norm.interval(alpha=(1-alp), loc=0, scale=1)\n",
    "print('za = ', za, ' zb =  ', zb)"
   ]
  },
  {
   "cell_type": "markdown",
   "metadata": {},
   "source": [
    "### 母平均の信頼区間\n",
    "母分散が既知の場合と、母分散が未知の場合で信頼区間の求め方は異なる。  \n",
    "詳しい式は省く。  \n",
    "両方の求めかたに共通して言えることとして、\n",
    "- 信頼度を高くすれば信頼区間が広がる。逆もまた然りである。\n",
    "- 高すぎる信頼度はあまり意味をなさない。信頼度100%とは、推定する母平均がどんな値でもはずれないということだからだ\n",
    "- 標本数を増やせば、その分、母平均の値の絞り込みができることになる"
   ]
  },
  {
   "cell_type": "markdown",
   "metadata": {},
   "source": [
    "**例題**  \n",
    "小学校のある学年の全国児童数は110万人とする。この児童への全国テストの平均値を推定するため、N=10人を無作為抽出して、これに対する標本平均は145.2だった。また、標本標準偏差は23.7点だった。このとき信頼度が0.99,0.95,0.90に対する信頼区間を求めよう。"
   ]
  },
  {
   "cell_type": "code",
   "execution_count": 7,
   "metadata": {},
   "outputs": [
    {
     "name": "stdout",
     "output_type": "stream",
     "text": [
      "0.99, interval :  120.84378885405553 169.55621114594445\n",
      "0.95, interval :  128.24604132892404 162.15395867107594\n",
      "0.90, interval :  131.46155538107368 158.9384446189263\n"
     ]
    }
   ],
   "source": [
    "from scipy.stats import t\n",
    "N = 10 # 標本数\n",
    "mu_hat = 145.2 # 標本平均\n",
    "std_hat = 23.7 # 標本標準偏差\n",
    "t1 = t.interval(0.99, df=N-1)\n",
    "t2 = t.interval(0.95, df=N-1)\n",
    "t3 = t.interval(0.90, df=N-1)\n",
    "se = std_hat / np.sqrt(N)\n",
    "\n",
    "print('0.99, interval : ', mu_hat+t1[0] * se, mu_hat+t1[1] * se)\n",
    "print('0.95, interval : ', mu_hat+t2[0] * se, mu_hat+t2[1] * se)\n",
    "print('0.90, interval : ', mu_hat+t3[0] * se, mu_hat+t3[1] * se)"
   ]
  },
  {
   "cell_type": "markdown",
   "metadata": {},
   "source": [
    "### 母比率の信頼区間\n",
    "母比率は、内閣支持率やTV視聴率などを表す。\n",
    "詳しい式は省く。"
   ]
  },
  {
   "cell_type": "markdown",
   "metadata": {},
   "source": [
    "**例題**  \n",
    "内閣支持率を調べるために、世論調査を行った。サンプル数は1000人で、支持する人の数は550人であった。信頼度95%の信頼区間を求めよう。"
   ]
  },
  {
   "cell_type": "code",
   "execution_count": 11,
   "metadata": {},
   "outputs": [
    {
     "name": "stdout",
     "output_type": "stream",
     "text": [
      "0.95の信頼区間 : 0.519 < p < 0.581\n"
     ]
    }
   ],
   "source": [
    "from scipy.stats import binom\n",
    "N = 1000 # 標本数\n",
    "alp = 0.95 # 信頼度\n",
    "p = 550 / N # 標本比率\n",
    "\n",
    "bottom, up = binom.interval(alpha=alp, n=N, p=p, loc=0)\n",
    "print('0.95の信頼区間 : {} < p < {}'.format(bottom/N, up/N))"
   ]
  },
  {
   "cell_type": "markdown",
   "metadata": {},
   "source": [
    "## 仮説検定\n",
    "仮説検定とは、ある仮説に対して、それが正しいのか否かを統計学的に検証する手段である。  \n",
    "検証を行うため立てる仮説のことを帰無仮説といい、それに対する仮説のことを対立仮説という。  \n",
    "有意水準とは、仮説検定を行う場合に、帰無仮説を棄却するかどうかを判定する基準を言う。"
   ]
  },
  {
   "cell_type": "markdown",
   "metadata": {},
   "source": [
    "### 片側検定と両側検定\n",
    "帰無仮説は「平均μ=2.0である」というように、等号の形で設定されることが多い。これに対する対立仮説を「μ > 2.0」,「μ < 2.0」とおくことを片側検定という。「μ≠2.0」とおくことを両側検定という。\n"
   ]
  },
  {
   "cell_type": "markdown",
   "metadata": {},
   "source": [
    "### 母平均の検定\n",
    "2通りの方法がある。\n",
    "- 母分散が既知の場合 → z検定を使用する\n",
    "- 母分散が未知の場合 → t検定を使用する"
   ]
  },
  {
   "cell_type": "markdown",
   "metadata": {},
   "source": [
    "**例題(片側検定)**  \n",
    "あるクラスでは、数学の平均点を上げるべく補講の前後でテストを行った。補講前後の点数差は,1,-1,-2,3,-1,5,4,0,7,-1であった。補講の効用を知りたい。有意水準α=5%で検定しよう。  \n",
    "  \n",
    "補講の効用がなかったことを帰無仮説に、あったことを対立仮説にする。"
   ]
  },
  {
   "cell_type": "code",
   "execution_count": 14,
   "metadata": {},
   "outputs": [
    {
     "name": "stdout",
     "output_type": "stream",
     "text": [
      "talp (alpha=0.05, df=9) =1.833113\n",
      "t =  1.5480470613460082\n"
     ]
    }
   ],
   "source": [
    "from scipy import  stats\n",
    "\n",
    "data = np.array([1,-1,-2,3,-1,5,4,0,7,-1])\n",
    "m = np.average(data) # 標本平均\n",
    "s = np.std(data, ddof=1) # 標本標準偏差(自由度をN-1にしている)\n",
    "N = len(data) # 標本数\n",
    "\n",
    "alp = 0.05\n",
    "talp = stats.t.ppf((1-alp), N-1) # αに対応する確率変数の値\n",
    "print('talp (alpha=0.05, df=%d) =%f' %((N-1), talp))\n",
    "\n",
    "m0 = 0\n",
    "t = (m-m0) / (s/np.sqrt(N))\n",
    "print('t = ', t)"
   ]
  },
  {
   "cell_type": "markdown",
   "metadata": {},
   "source": [
    "talp>tのため、帰無仮説を棄却できない。このように確率変数の値で比較するのではなく、確率の値で比較するには、以下のようにする。"
   ]
  },
  {
   "cell_type": "code",
   "execution_count": 15,
   "metadata": {},
   "outputs": [
    {
     "name": "stdout",
     "output_type": "stream",
     "text": [
      "p =  0.07800883831234118\n"
     ]
    }
   ],
   "source": [
    "prob = stats.t.cdf(t, N-1)\n",
    "print('p = ', 1-prob)"
   ]
  },
  {
   "cell_type": "markdown",
   "metadata": {},
   "source": [
    "pが設定した有意水準より大きいため、帰無仮説を棄却できない。"
   ]
  },
  {
   "cell_type": "markdown",
   "metadata": {},
   "source": [
    "**例題2(両側検定)**  \n",
    "アルファ社の精密部品の直径の規格は1.54cmである。製造したものから8個をサンプリングし、直径を測ると1.5399, 1.5390, 1.5399, 1.5395, 1.5400, 1.5390, 1.5399, 1.5399であった。この部品は規格どおりであるか？有意水準α=5%で検定しよう。"
   ]
  },
  {
   "cell_type": "code",
   "execution_count": 18,
   "metadata": {},
   "outputs": [
    {
     "name": "stdout",
     "output_type": "stream",
     "text": [
      "t =  -2.4373067467182707\n",
      "p =  0.04493615922381196\n"
     ]
    }
   ],
   "source": [
    "data2 = np.array([1.5399, 1.5390, 1.5399, 1.5395, 1.5400, 1.5390, 1.5399, 1.5399])\n",
    "m = np.mean(data2)\n",
    "s = np.std(data2, ddof=1)\n",
    "N = len(data2)\n",
    "df = N-1\n",
    "m0 = 1.54\n",
    "\n",
    "t = (m-m0) / (s/np.sqrt(N))\n",
    "prob = stats.t.cdf(t, df)\n",
    "if t >= 0 :\n",
    "    p = 1-prb\n",
    "else :\n",
    "    p = prob\n",
    "\n",
    "print('t = ', t)\n",
    "print('p = ', 2*p) # 両側検定のため、2*pにしている"
   ]
  },
  {
   "cell_type": "markdown",
   "metadata": {},
   "source": [
    "### 母分散の検定\n",
    "標本が正規分布に従っていると仮定する。こ正規分布の平均と分散が未知の時、母分散が仮定する推定量に等しいか否かを判定するのが母分散の検定である。"
   ]
  },
  {
   "cell_type": "markdown",
   "metadata": {},
   "source": [
    "**例題**  \n",
    "先のアルファ社の精密部品について、規格では分散は1*10^-7mm以下としている(ばらつきが小さいことを言いたい)。精密部品の簿標準偏差は、この規格からずれているかどうか、有意水準5%で検定しよう。  \n",
    "  \n",
    "分散がある値以下であるかを問いただしているため、片側検定である。そのため、帰無仮説を`分散=1*10^-7`、対立仮説を`分散>1*10^-7`とする。"
   ]
  },
  {
   "cell_type": "code",
   "execution_count": 21,
   "metadata": {},
   "outputs": [
    {
     "name": "stdout",
     "output_type": "stream",
     "text": [
      "分散 :  1.769642857143276e-07\n",
      "chi2 =  12.387500000002934  chi2_alp =  14.067140449340169\n",
      "pval =  0.08851446668234408\n"
     ]
    }
   ],
   "source": [
    "var = np.var(data2, ddof=1) # 標本分散\n",
    "print('分散 : ', var)\n",
    "\n",
    "var0 = 1.e-7\n",
    "alp = 0.05\n",
    "N = len(data2)\n",
    "df = N-1\n",
    "\n",
    "chi2 = (N-1) * var / var0\n",
    "chi2_alp = stats.chi2.ppf((1-alp), df=df)\n",
    "print('chi2 = ', chi2, ' chi2_alp = ', chi2_alp)\n",
    "pval = 1-stats.chi2.cdf(chi2, df)\n",
    "print('pval = ', pval)"
   ]
  },
  {
   "cell_type": "markdown",
   "metadata": {},
   "source": [
    "### 2標本の平均の差の検定\n",
    "2つの標本の母集団の母平均の差を検定することを考える。すなわち、2つの母平均は同じか異なるかをしりたいとする。この場合、次の3通りが考えられる。\n",
    "- 2角母分散が既知\n",
    "- 2つの母分散は未知であるが、この2つは等しい\n",
    "- 2つの母分散がともに未知である　→　ウェルチのt検定"
   ]
  },
  {
   "cell_type": "markdown",
   "metadata": {},
   "source": [
    "**例題 2つの体温計の性能検定**  \n",
    "次は、2つの体温計(s1)と(s2)の測定精度に差があるかを確かめた10回の測定結果である。この2つの体温計は同じような精度であるといえるだろうか？  \n",
    "\n",
    "両方の平均値の差に有意差があるか否かの検定を行う。このため、帰無仮説をμx = μy(標本の)とし、対立仮説をμx ≠μy(標本の)とする。このため、両側検定になる。"
   ]
  },
  {
   "cell_type": "code",
   "execution_count": 23,
   "metadata": {},
   "outputs": [
    {
     "name": "stdout",
     "output_type": "stream",
     "text": [
      "t =  1.6653821449601343  p =  0.11477658092297612\n"
     ]
    }
   ],
   "source": [
    "s1 = np.array([37.1,36.7,36.6,37.4,36.8,36.7,36.9,37.4,36.6,36.7])\n",
    "s2 = np.array([36.8,36.6,36.5,37.0,36.7,36.5,36.6,37.1,36.4,36.7])\n",
    "\n",
    "t, p = stats.ttest_ind(s1, s2, equal_var= False)\n",
    "print('t = ', t, ' p = ', p)"
   ]
  },
  {
   "cell_type": "markdown",
   "metadata": {},
   "source": [
    "有意水準を5%とすると、pがこれより大きいため、帰無仮説は棄却できない。すなわち2つの体温計の平均値が等しいという仮説は棄却できない。"
   ]
  },
  {
   "cell_type": "markdown",
   "metadata": {},
   "source": [
    "### 相関, 無相関の検定\n",
    "相関の基本的な説明は省く。\n",
    "相関があるか否かを検定する、無相関の検定がある。"
   ]
  },
  {
   "cell_type": "markdown",
   "metadata": {},
   "source": [
    "**例題**  \n",
    "表4.2(このノートブックでは、以下のスクリプトの変数を参照)は父の身長x、とその息子の身長yであり、この両者の間に相関があるかどうか(親の身長が高ければ、その子供の身長も高い、という仮説)を有意水準α=0.05, 0.01の場合について調べよう。  \n",
    "  \n",
    "この問題の場合、帰無仮説は相関なし、対立仮説は相関ありである。"
   ]
  },
  {
   "cell_type": "code",
   "execution_count": 24,
   "metadata": {},
   "outputs": [
    {
     "name": "stdout",
     "output_type": "stream",
     "text": [
      "corr =  0.6342703173343618  p =  0.04888299019331427\n"
     ]
    }
   ],
   "source": [
    "x = np.array([168,172,181,179,166,185,177,176,169,161])\n",
    "y = np.array([111,125,129,120,126,133,130,116,118,115])\n",
    "\n",
    "corr, p = stats.pearsonr(x,y)\n",
    "print('corr = ', corr, ' p = ', p)"
   ]
  },
  {
   "cell_type": "markdown",
   "metadata": {},
   "source": [
    "有意水準α=0.05のときは棄却し、α=0.01のときは、棄却しないという結果になった。"
   ]
  }
 ],
 "metadata": {
  "file_extension": ".py",
  "kernelspec": {
   "display_name": "Python 3",
   "language": "python",
   "name": "python3"
  },
  "language_info": {
   "codemirror_mode": {
    "name": "ipython",
    "version": 3
   },
   "file_extension": ".py",
   "mimetype": "text/x-python",
   "name": "python",
   "nbconvert_exporter": "python",
   "pygments_lexer": "ipython3",
   "version": "3.6.3"
  },
  "mimetype": "text/x-python",
  "name": "python",
  "npconvert_exporter": "python",
  "pygments_lexer": "ipython3",
  "toc": {
   "base_numbering": 1,
   "nav_menu": {},
   "number_sections": true,
   "sideBar": true,
   "skip_h1_title": false,
   "title_cell": "Table of Contents",
   "title_sidebar": "Contents",
   "toc_cell": false,
   "toc_position": {},
   "toc_section_display": true,
   "toc_window_display": false
  },
  "version": 3
 },
 "nbformat": 4,
 "nbformat_minor": 2
}
